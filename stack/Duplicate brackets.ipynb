{
 "cells": [
  {
   "cell_type": "code",
   "execution_count": 4,
   "metadata": {},
   "outputs": [
    {
     "name": "stdout",
     "output_type": "stream",
     "text": [
      "False\n"
     ]
    }
   ],
   "source": [
    "string1 = \"((a + b) + (c + d))\"\n",
    "string2 = \"(a + b) + ((c + d))\"\n",
    "stack = []\n",
    "\n",
    "def findDuplicate(input):\n",
    "    stack = []\n",
    "    for i in range(len(input)):\n",
    "        if len(stack) == 0 or input[i] != \")\":\n",
    "            stack.append(input[i])\n",
    "        else:\n",
    "            if stack[-1] == \"(\":\n",
    "                return True\n",
    "            else:\n",
    "                while len(stack) > 0:\n",
    "                    if stack[-1] == \"(\":\n",
    "                        stack.pop()\n",
    "                        break\n",
    "                    else:\n",
    "                        stack.pop()\n",
    "    return False\n",
    "\n",
    "print(findDuplicate(string1))"
   ]
  },
  {
   "cell_type": "code",
   "execution_count": null,
   "metadata": {},
   "outputs": [],
   "source": []
  }
 ],
 "metadata": {
  "kernelspec": {
   "display_name": "Python 3",
   "language": "python",
   "name": "python3"
  },
  "language_info": {
   "codemirror_mode": {
    "name": "ipython",
    "version": 3
   },
   "file_extension": ".py",
   "mimetype": "text/x-python",
   "name": "python",
   "nbconvert_exporter": "python",
   "pygments_lexer": "ipython3",
   "version": "3.7.6"
  }
 },
 "nbformat": 4,
 "nbformat_minor": 4
}
