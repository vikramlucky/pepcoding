{
 "cells": [
  {
   "cell_type": "code",
   "execution_count": 10,
   "metadata": {},
   "outputs": [],
   "source": [
    "string1 = \"[(a + b) + {(c + d) * (e / f)}]\" #true\n",
    "string2 = \"[(a + b) + {(c + d) * (e / f)]}\" #false\n",
    "string3 = \"[(a + b) + {(c + d) * (e / f)}\"  #false\n",
    "string4 = \"([(a + b) + {(c + d) * (e / f)}]\" #\"false"
   ]
  },
  {
   "cell_type": "code",
   "execution_count": 14,
   "metadata": {},
   "outputs": [
    {
     "name": "stdout",
     "output_type": "stream",
     "text": [
      "true\n",
      "false\n",
      "false\n",
      "false\n"
     ]
    }
   ],
   "source": [
    "def is_valid(s1, s2):\n",
    "    \n",
    "    if (s1 == \"(\" and s2 == \")\" ) or (s1 == \"{\" and s2 == \"}\") or (s1 == \"[\" and s2 == \"]\"):\n",
    "        return True\n",
    "    else:\n",
    "        return False\n",
    "\n",
    "def isbalanced(inputString):\n",
    "    stack = []\n",
    "    for i in range(len(inputString)):\n",
    "        paren = inputString[i]\n",
    "        if paren in \"({[\":\n",
    "            stack.append(paren)\n",
    "        else:\n",
    "            if paren in \")]}\":\n",
    "                if len(stack) > 0:\n",
    "                    if not is_valid(stack.pop(), paren):\n",
    "                        return(\"false\")\n",
    "                else:\n",
    "                    return(\"false\")\n",
    "    if len(stack) == 0:\n",
    "        return(\"true\")\n",
    "    else:\n",
    "        return(\"false\")\n",
    "    \n",
    "print(isbalanced(string1))   \n",
    "print(isbalanced(string2))   \n",
    "print(isbalanced(string3))   \n",
    "print(isbalanced(string4))   \n",
    "            "
   ]
  },
  {
   "cell_type": "code",
   "execution_count": null,
   "metadata": {},
   "outputs": [],
   "source": []
  },
  {
   "cell_type": "code",
   "execution_count": null,
   "metadata": {},
   "outputs": [],
   "source": []
  }
 ],
 "metadata": {
  "kernelspec": {
   "display_name": "Python 3",
   "language": "python",
   "name": "python3"
  },
  "language_info": {
   "codemirror_mode": {
    "name": "ipython",
    "version": 3
   },
   "file_extension": ".py",
   "mimetype": "text/x-python",
   "name": "python",
   "nbconvert_exporter": "python",
   "pygments_lexer": "ipython3",
   "version": "3.7.6"
  }
 },
 "nbformat": 4,
 "nbformat_minor": 4
}
