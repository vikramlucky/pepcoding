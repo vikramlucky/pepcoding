{
 "cells": [
  {
   "cell_type": "code",
   "execution_count": 1,
   "metadata": {},
   "outputs": [],
   "source": [
    "# import java.io.*;\n",
    "# import java.util.*;\n",
    "\n",
    "# public class Main {\n",
    "\n",
    "#   public static void countSort(int[] arr, int min, int max) {\n",
    "#    //write your code here\n",
    "#    int diff = 0;\n",
    "   \n",
    "#    if(min < 0){\n",
    "#        diff = 0 - min;\n",
    "#    }\n",
    "#    max = max + diff;\n",
    "#    int[] fmap = new int[max+1];\n",
    "   \n",
    "#    for(int i = 0; i < arr.length; i++){\n",
    "#        int val = arr[i];\n",
    "#        fmap[val + diff]++;\n",
    "#    }\n",
    "   \n",
    "#    int indx = 0;\n",
    "#    for(int i =0; i < fmap.length; i++){\n",
    "#        int fq = fmap[i];\n",
    "#        int val = i - diff;\n",
    "       \n",
    "#        for(int j = 0; j < fq; j++){\n",
    "#            arr[indx] = val;\n",
    "#            indx++;\n",
    "#        }\n",
    "#    }\n",
    "    \n",
    "   \n",
    "#   }\n",
    "\n",
    "#   public static void print(int[] arr) {\n",
    "#     for (int i = 0; i < arr.length; i++) {\n",
    "#       System.out.println(arr[i]);\n",
    "#     }\n",
    "#   }\n",
    "\n",
    "#   public static void main(String[] args) throws Exception {\n",
    "#     Scanner scn = new Scanner(System.in);\n",
    "#     int n = scn.nextInt();\n",
    "#     int[] arr = new int[n];\n",
    "#     int max = Integer.MIN_VALUE;\n",
    "#     int min = Integer.MAX_VALUE;\n",
    "#     for (int i = 0; i < n; i++) {\n",
    "#       arr[i] = scn.nextInt();\n",
    "#       max = Math.max(max, arr[i]);\n",
    "#       min = Math.min(min, arr[i]);\n",
    "#     }\n",
    "#     countSort(arr,min,max);\n",
    "#     print(arr);\n",
    "#   }\n",
    "\n",
    "# }"
   ]
  },
  {
   "cell_type": "code",
   "execution_count": null,
   "metadata": {},
   "outputs": [],
   "source": []
  },
  {
   "cell_type": "code",
   "execution_count": null,
   "metadata": {},
   "outputs": [],
   "source": []
  }
 ],
 "metadata": {
  "kernelspec": {
   "display_name": "Python 3",
   "language": "python",
   "name": "python3"
  },
  "language_info": {
   "codemirror_mode": {
    "name": "ipython",
    "version": 3
   },
   "file_extension": ".py",
   "mimetype": "text/x-python",
   "name": "python",
   "nbconvert_exporter": "python",
   "pygments_lexer": "ipython3",
   "version": "3.7.6"
  }
 },
 "nbformat": 4,
 "nbformat_minor": 4
}
