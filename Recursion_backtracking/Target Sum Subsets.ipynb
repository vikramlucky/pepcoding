{
 "cells": [
  {
   "cell_type": "markdown",
   "metadata": {},
   "source": [
    "### Target Sum Subsets\n",
    "\n",
    "Easy   Prev Next  \n",
    "1. You are given a number n, representing the count of elements.\n",
    "2. You are given n numbers.\n",
    "3. You are given a number \"tar\".\n",
    "4. Complete the body of printTargetSumSubsets function - without changing signature - to calculate and print all subsets of given elements, the contents of which sum to \"tar\". Use sample input and output to get more idea.\n",
    "\n",
    "Note -> The online judge can't force you to write the function recursively but that is what the spirit of question is. Write recursive and not iterative logic. The purpose of the question is to aid learning recursion and not test you. <br>\n",
    "\n",
    "__Input Format__ <br>\n",
    "Input Format <br>\n",
    "A number n <br>\n",
    "n1 <br>\n",
    "n2 <br>\n",
    ".. n number of elements <br>\n",
    "A number tar <br>\n",
    "\n",
    "__Output Format__ <br>\n",
    "Comma separated elements of the subset, the contents of which add to \"tar\"\n",
    ".. all such subsets, each in a single line (the elements of each subset should be comma separated)"
   ]
  },
  {
   "cell_type": "code",
   "execution_count": 1,
   "metadata": {},
   "outputs": [
    {
     "name": "stdout",
     "output_type": "stream",
     "text": [
      "5\n",
      "10\n",
      "20\n",
      "30\n",
      "40\n",
      "50\n",
      "60\n",
      "10, 20, 30, .\n",
      "10, 50, .\n",
      "20, 40, .\n"
     ]
    }
   ],
   "source": [
    "def takeInput():\n",
    "    '''Takes input'''\n",
    "    \n",
    "    n = int(input())\n",
    "    arr = []\n",
    "    for i in range(n):\n",
    "        arr.append(int(input()))\n",
    "    tar = int(input())\n",
    "    return arr, tar # Returns arr of number and a target value\n",
    "\n",
    "\n",
    "def solve(arr, idx, target, current, currentSum): \n",
    "    \n",
    "    if idx == len(arr):\n",
    "        if currentSum == target: # If currentSum equals to Target we print the current Solution\n",
    "            print(current, end = \".\")\n",
    "            print()\n",
    "        return\n",
    "    \n",
    "    if arr[idx] + currentSum <= target: \n",
    "        solve(arr, idx + 1, target, current + str(arr[idx]) + \", \", currentSum + arr[idx]) #Include number \n",
    "    solve(arr, idx + 1, target, current, currentSum) # Exclude number \n",
    "    \n",
    "\n",
    "arr, target = takeInput()\n",
    "\n",
    "solve(arr, 0, target, \"\", 0)\n",
    "\n"
   ]
  },
  {
   "cell_type": "code",
   "execution_count": null,
   "metadata": {},
   "outputs": [],
   "source": []
  }
 ],
 "metadata": {
  "kernelspec": {
   "display_name": "Python 3",
   "language": "python",
   "name": "python3"
  },
  "language_info": {
   "codemirror_mode": {
    "name": "ipython",
    "version": 3
   },
   "file_extension": ".py",
   "mimetype": "text/x-python",
   "name": "python",
   "nbconvert_exporter": "python",
   "pygments_lexer": "ipython3",
   "version": "3.7.6"
  }
 },
 "nbformat": 4,
 "nbformat_minor": 4
}
