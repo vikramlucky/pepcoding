{
 "cells": [
  {
   "cell_type": "markdown",
   "metadata": {},
   "source": [
    "## Flood Fill\n",
    "\n",
    "  \n",
    "1. You are given a number n, representing the number of rows.\n",
    "2. You are given a number m, representing the number of columns.\n",
    "3. You are given n*m numbers, representing elements of 2d array a. The numbers can be 1 or 0 only.\n",
    "4. You are standing in the top-left corner and have to reach the bottom-right corner. \n",
    "\n",
    "Only four moves are allowed 't' (1-step up), 'l' (1-step left), 'd' (1-step down) 'r' (1-step right). You can only move to cells which have 0 value in them. You can't move out of the boundaries or in the cells which have value 1 in them (1 means obstacle)\n",
    "5. Complete the body of floodfill function - without changing signature - to print all paths that can be used to move from top-left to bottom-right.\n",
    "\n",
    "Note1 -> Please check the sample input and output for details\n",
    "Note2 -> If all four moves are available make moves in the order 't', 'l', 'd' and 'r'\n",
    "\n",
    "__Input Format__ <br>\n",
    "A number n <br>\n",
    "A number m <br>\n",
    "e11  <br>\n",
    "e12.. <br>\n",
    "e21 <br>\n",
    "e22.. <br>\n",
    ".. n * m number of elements <br>\n",
    "__Output Format__ <br>\n",
    "trrrdlt <br>\n",
    "tlldrt <br>\n",
    ".. and so on <br>\n",
    "\n"
   ]
  },
  {
   "cell_type": "code",
   "execution_count": 4,
   "metadata": {},
   "outputs": [
    {
     "name": "stdout",
     "output_type": "stream",
     "text": [
      "Enter number of Rows3\n",
      "Enter number of cols3\n",
      "0\n",
      "0\n",
      "0\n",
      "1\n",
      "0\n",
      "1\n",
      "0\n",
      "0\n",
      "0\n",
      "rddr\n"
     ]
    }
   ],
   "source": [
    "def takeInput():\n",
    "    \n",
    "    n = int(input(\"Enter number of Rows\"))\n",
    "    m = int(input(\"Enter number of cols\"))\n",
    "    mat = [[None for x in range(m)] for j in range(n)]\n",
    "    for i in range(n):\n",
    "        for j in range(m):\n",
    "            mat[i][j] = int(input())\n",
    "    return mat\n",
    "\n",
    "matrix = takeInput()\n",
    "\n",
    "visited=[[False for j in range(len(matrix[0])) ] for i in range(len(matrix))]\n",
    "\n",
    "def solve(matrix, visited, i, j, asf):\n",
    "    \n",
    "    # if out of bound or if its 1 return\n",
    "    if i < 0 or i >= len(matrix) or j < 0 or j >= len(matrix[0]) or matrix[i][j] == 1 or visited[i][j]:\n",
    "        return\n",
    "    \n",
    "    #check if you have reached your destination, if so print your answer_so_far\n",
    "    if i == len(matrix) - 1 and j == len(matrix[0]) - 1:\n",
    "        print(asf)\n",
    "        return\n",
    "    \n",
    "    # mark current cell as visited\n",
    "    visited[i][j] = True\n",
    "    \n",
    "    solve(matrix, visited, i - 1, j, asf + \"t\")\n",
    "    solve(matrix, visited, i + 1, j, asf + \"d\")\n",
    "    solve(matrix, visited, i, j - 1, asf + \"l\")\n",
    "    solve(matrix, visited, i, j + 1, asf + \"r\")\n",
    "    visited[i][j] = False\n",
    "\n",
    "solve(matrix, visited, 0, 0, \"\")"
   ]
  },
  {
   "cell_type": "code",
   "execution_count": null,
   "metadata": {},
   "outputs": [],
   "source": []
  }
 ],
 "metadata": {
  "kernelspec": {
   "display_name": "Python 3",
   "language": "python",
   "name": "python3"
  },
  "language_info": {
   "codemirror_mode": {
    "name": "ipython",
    "version": 3
   },
   "file_extension": ".py",
   "mimetype": "text/x-python",
   "name": "python",
   "nbconvert_exporter": "python",
   "pygments_lexer": "ipython3",
   "version": "3.7.6"
  }
 },
 "nbformat": 4,
 "nbformat_minor": 4
}
